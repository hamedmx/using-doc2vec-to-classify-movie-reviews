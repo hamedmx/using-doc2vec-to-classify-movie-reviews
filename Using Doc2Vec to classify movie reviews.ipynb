{
 "cells": [
  {
   "cell_type": "markdown",
   "metadata": {},
   "source": [
    "# Using Doc2Vec to classify movie reviews"
   ]
  },
  {
   "cell_type": "markdown",
   "metadata": {},
   "source": [
    "## 1. First steps"
   ]
  },
  {
   "cell_type": "markdown",
   "metadata": {},
   "source": [
    "### 1.1 Import packages"
   ]
  },
  {
   "cell_type": "code",
   "execution_count": 1,
   "metadata": {
    "scrolled": false
   },
   "outputs": [],
   "source": [
    "from tensorflow.contrib.tensorboard.plugins import projector\n",
    "from gensim.models.doc2vec import Doc2Vec, TaggedDocument\n",
    "from gensim.models.callbacks import CallbackAny2Vec\n",
    "import tensorflow as tf\n",
    "import multiprocessing\n",
    "import numpy as np\n",
    "import os"
   ]
  },
  {
   "cell_type": "markdown",
   "metadata": {},
   "source": [
    "### 1.2 Download data"
   ]
  },
  {
   "cell_type": "code",
   "execution_count": 2,
   "metadata": {
    "scrolled": false
   },
   "outputs": [],
   "source": [
    "imdb = tf.keras.datasets.imdb"
   ]
  },
  {
   "cell_type": "code",
   "execution_count": 3,
   "metadata": {
    "scrolled": false
   },
   "outputs": [],
   "source": [
    "(train_reviews, train_labels), (test_reviews, test_labels) = imdb.load_data()"
   ]
  },
  {
   "cell_type": "markdown",
   "metadata": {},
   "source": [
    "### 1.3 Build `vocab` and `vocab_rev`"
   ]
  },
  {
   "cell_type": "code",
   "execution_count": 4,
   "metadata": {
    "scrolled": false
   },
   "outputs": [],
   "source": [
    "vocab = imdb.get_word_index()"
   ]
  },
  {
   "cell_type": "code",
   "execution_count": 5,
   "metadata": {
    "scrolled": false
   },
   "outputs": [],
   "source": [
    "vocab = {k:(v + 3) for k, v in vocab.items()}\n",
    "vocab[\"<PAD>\"] = 0\n",
    "vocab[\"<START>\"] = 1\n",
    "vocab[\"<UNK>\"] = 2\n",
    "vocab[\"<UNUSED>\"] = 3"
   ]
  },
  {
   "cell_type": "code",
   "execution_count": 6,
   "metadata": {
    "scrolled": false
   },
   "outputs": [],
   "source": [
    "vocab_rev =  dict([(value, key) for (key, value) in vocab.items()])"
   ]
  },
  {
   "cell_type": "markdown",
   "metadata": {},
   "source": [
    "### 1.4 Create `decode_review`"
   ]
  },
  {
   "cell_type": "code",
   "execution_count": 7,
   "metadata": {
    "scrolled": false
   },
   "outputs": [],
   "source": [
    "def decode_review(review):\n",
    "    return [vocab_rev.get(i, \"?\") for i in review]"
   ]
  },
  {
   "cell_type": "markdown",
   "metadata": {},
   "source": [
    "## 2. Learn embeddings"
   ]
  },
  {
   "cell_type": "markdown",
   "metadata": {},
   "source": [
    "### 2.1 Prepare docs"
   ]
  },
  {
   "cell_type": "code",
   "execution_count": 9,
   "metadata": {
    "scrolled": false
   },
   "outputs": [],
   "source": [
    "reviews = np.concatenate((train_reviews, test_reviews))"
   ]
  },
  {
   "cell_type": "code",
   "execution_count": 10,
   "metadata": {
    "scrolled": false
   },
   "outputs": [],
   "source": [
    "docs = [TaggedDocument(decode_review(review), [i]) for i, review in enumerate(reviews)]"
   ]
  },
  {
   "cell_type": "markdown",
   "metadata": {},
   "source": [
    "### 2.2 Train `Doc2Vec` model"
   ]
  },
  {
   "cell_type": "code",
   "execution_count": 12,
   "metadata": {
    "scrolled": false
   },
   "outputs": [],
   "source": [
    "class Doc2VecCallback(CallbackAny2Vec):\n",
    "    def __init__(self, epochs):\n",
    "        self.prog_bar = tf.keras.utils.Progbar(epochs)\n",
    "        self.epoch = 0\n",
    "    def on_epoch_end(self, model):\n",
    "        self.epoch += 1\n",
    "        self.prog_bar.update(self.epoch)"
   ]
  },
  {
   "cell_type": "code",
   "execution_count": 13,
   "metadata": {
    "scrolled": false
   },
   "outputs": [],
   "source": [
    "cores = multiprocessing.cpu_count()"
   ]
  },
  {
   "cell_type": "code",
   "execution_count": 14,
   "metadata": {
    "scrolled": false
   },
   "outputs": [
    {
     "name": "stdout",
     "output_type": "stream",
     "text": [
      "100/100 [==============================] - 445s 4s/step\n"
     ]
    }
   ],
   "source": [
    "d2v_model = Doc2Vec(docs, dm=0, min_count=2, vector_size=100, hs=0, negative=5, epochs=100,\n",
    "                    callbacks=[Doc2VecCallback(100)], sample=0, workers=cores)"
   ]
  },
  {
   "cell_type": "code",
   "execution_count": 16,
   "metadata": {
    "scrolled": false
   },
   "outputs": [],
   "source": [
    "embdgs = d2v_model.docvecs.vectors_docs\n",
    "train_embdgs, test_embdgs = np.split(embdgs, [25000])"
   ]
  },
  {
   "cell_type": "markdown",
   "metadata": {},
   "source": [
    "### 2.3 Visualize embeddings"
   ]
  },
  {
   "cell_type": "code",
   "execution_count": 17,
   "metadata": {
    "scrolled": false
   },
   "outputs": [],
   "source": [
    "embdgs_dir = \"embdgs\""
   ]
  },
  {
   "cell_type": "code",
   "execution_count": 18,
   "metadata": {
    "scrolled": false
   },
   "outputs": [],
   "source": [
    "os.mkdir(embdgs_dir)"
   ]
  },
  {
   "cell_type": "code",
   "execution_count": 19,
   "metadata": {
    "scrolled": false
   },
   "outputs": [],
   "source": [
    "meta_path = os.path.join(embdgs_dir, \"meta.tsv\")\n",
    "embdgs_path = os.path.join(embdgs_dir, \"embdgs.ckpt\")"
   ]
  },
  {
   "cell_type": "code",
   "execution_count": 20,
   "metadata": {
    "scrolled": false
   },
   "outputs": [],
   "source": [
    "with open(meta_path, \"w\", encoding=\"utf-8\") as f:\n",
    "    f.write(\"review\")\n",
    "    for review in reviews:\n",
    "        excerpt = \" \".join(decode_review(review[1:31]))\n",
    "        f.write(f\"{excerpt}\\n\")"
   ]
  },
  {
   "cell_type": "code",
   "execution_count": 21,
   "metadata": {
    "scrolled": false
   },
   "outputs": [],
   "source": [
    "tf.reset_default_graph()\n",
    "sess = tf.InteractiveSession()\n",
    "tf.get_variable(\"embdgs\", initializer=embdgs)\n",
    "writer = tf.summary.FileWriter(embdgs_dir)\n",
    "saver = tf.train.Saver()"
   ]
  },
  {
   "cell_type": "code",
   "execution_count": 22,
   "metadata": {
    "scrolled": false
   },
   "outputs": [],
   "source": [
    "config = projector.ProjectorConfig()\n",
    "embdg_conf = config.embeddings.add()\n",
    "embdg_conf.tensor_name = \"embdgs\"\n",
    "embdg_conf.metadata_path = \"meta.tsv\"\n",
    "projector.visualize_embeddings(writer, config)"
   ]
  },
  {
   "cell_type": "code",
   "execution_count": 23,
   "metadata": {
    "scrolled": false
   },
   "outputs": [],
   "source": [
    "sess.run(tf.global_variables_initializer())\n",
    "saver.save(sess, embdgs_path)\n",
    "sess.close()"
   ]
  },
  {
   "cell_type": "markdown",
   "metadata": {},
   "source": [
    "## 3. Classify reviews"
   ]
  },
  {
   "cell_type": "markdown",
   "metadata": {},
   "source": [
    "### 3.1 Build model"
   ]
  },
  {
   "cell_type": "code",
   "execution_count": 36,
   "metadata": {
    "scrolled": false
   },
   "outputs": [],
   "source": [
    "model = tf.keras.Sequential()\n",
    "model.add(tf.keras.layers.Dense(1, activation=\"sigmoid\"))\n",
    "model.compile(optimizer=tf.train.AdamOptimizer(0.01), loss='binary_crossentropy',\n",
    "              metrics=['accuracy'])"
   ]
  },
  {
   "cell_type": "markdown",
   "metadata": {},
   "source": [
    "### 3.2 Train model"
   ]
  },
  {
   "cell_type": "code",
   "execution_count": 37,
   "metadata": {
    "scrolled": true
   },
   "outputs": [
    {
     "name": "stdout",
     "output_type": "stream",
     "text": [
      "Epoch 1/50\n",
      "25000/25000 [==============================] - 1s 34us/sample - loss: 0.3399 - acc: 0.8634\n",
      "Epoch 2/50\n",
      "25000/25000 [==============================] - 1s 30us/sample - loss: 0.2820 - acc: 0.8865\n",
      "Epoch 3/50\n",
      "25000/25000 [==============================] - 1s 30us/sample - loss: 0.2815 - acc: 0.8883\n",
      "Epoch 4/50\n",
      "25000/25000 [==============================] - 1s 30us/sample - loss: 0.2808 - acc: 0.8872\n",
      "Epoch 5/50\n",
      "25000/25000 [==============================] - 1s 30us/sample - loss: 0.2816 - acc: 0.8878\n",
      "Epoch 6/50\n",
      "25000/25000 [==============================] - 1s 30us/sample - loss: 0.2812 - acc: 0.8870\n",
      "Epoch 7/50\n",
      "25000/25000 [==============================] - 1s 30us/sample - loss: 0.2811 - acc: 0.8877\n",
      "Epoch 8/50\n",
      "25000/25000 [==============================] - 1s 30us/sample - loss: 0.2807 - acc: 0.8878\n",
      "Epoch 9/50\n",
      "25000/25000 [==============================] - 1s 30us/sample - loss: 0.2810 - acc: 0.8887\n",
      "Epoch 10/50\n",
      "25000/25000 [==============================] - 1s 30us/sample - loss: 0.2812 - acc: 0.8876\n",
      "Epoch 11/50\n",
      "25000/25000 [==============================] - 1s 30us/sample - loss: 0.2811 - acc: 0.8886\n",
      "Epoch 12/50\n",
      "25000/25000 [==============================] - 1s 30us/sample - loss: 0.2811 - acc: 0.8885\n",
      "Epoch 13/50\n",
      "25000/25000 [==============================] - 1s 30us/sample - loss: 0.2814 - acc: 0.8890\n",
      "Epoch 14/50\n",
      "25000/25000 [==============================] - 1s 31us/sample - loss: 0.2811 - acc: 0.8894\n",
      "Epoch 15/50\n",
      "25000/25000 [==============================] - 1s 30us/sample - loss: 0.2809 - acc: 0.8877\n",
      "Epoch 16/50\n",
      "25000/25000 [==============================] - 1s 30us/sample - loss: 0.2819 - acc: 0.8865\n",
      "Epoch 17/50\n",
      "25000/25000 [==============================] - 1s 30us/sample - loss: 0.2808 - acc: 0.8886\n",
      "Epoch 18/50\n",
      "25000/25000 [==============================] - 1s 30us/sample - loss: 0.2808 - acc: 0.8884\n",
      "Epoch 19/50\n",
      "25000/25000 [==============================] - 1s 31us/sample - loss: 0.2808 - acc: 0.8888\n",
      "Epoch 20/50\n",
      "25000/25000 [==============================] - 1s 30us/sample - loss: 0.2807 - acc: 0.8871\n",
      "Epoch 21/50\n",
      "25000/25000 [==============================] - 1s 30us/sample - loss: 0.2815 - acc: 0.8887\n",
      "Epoch 22/50\n",
      "25000/25000 [==============================] - 1s 32us/sample - loss: 0.2808 - acc: 0.8870\n",
      "Epoch 23/50\n",
      "25000/25000 [==============================] - 1s 33us/sample - loss: 0.2810 - acc: 0.8865\n",
      "Epoch 24/50\n",
      "25000/25000 [==============================] - 1s 31us/sample - loss: 0.2818 - acc: 0.8872\n",
      "Epoch 25/50\n",
      "25000/25000 [==============================] - 1s 31us/sample - loss: 0.2813 - acc: 0.8876\n",
      "Epoch 26/50\n",
      "25000/25000 [==============================] - 1s 32us/sample - loss: 0.2807 - acc: 0.8882\n",
      "Epoch 27/50\n",
      "25000/25000 [==============================] - 1s 32us/sample - loss: 0.2812 - acc: 0.8883\n",
      "Epoch 28/50\n",
      "25000/25000 [==============================] - 1s 30us/sample - loss: 0.2813 - acc: 0.8874\n",
      "Epoch 29/50\n",
      "25000/25000 [==============================] - 1s 30us/sample - loss: 0.2808 - acc: 0.8868\n",
      "Epoch 30/50\n",
      "25000/25000 [==============================] - 1s 30us/sample - loss: 0.2815 - acc: 0.8883\n",
      "Epoch 31/50\n",
      "25000/25000 [==============================] - 1s 31us/sample - loss: 0.2810 - acc: 0.8882\n",
      "Epoch 32/50\n",
      "25000/25000 [==============================] - 1s 30us/sample - loss: 0.2812 - acc: 0.8875\n",
      "Epoch 33/50\n",
      "25000/25000 [==============================] - 1s 30us/sample - loss: 0.2807 - acc: 0.8881\n",
      "Epoch 34/50\n",
      "25000/25000 [==============================] - 1s 30us/sample - loss: 0.2806 - acc: 0.8879\n",
      "Epoch 35/50\n",
      "25000/25000 [==============================] - 1s 31us/sample - loss: 0.2804 - acc: 0.8880\n",
      "Epoch 36/50\n",
      "25000/25000 [==============================] - 1s 31us/sample - loss: 0.2806 - acc: 0.8880\n",
      "Epoch 37/50\n",
      "25000/25000 [==============================] - 1s 32us/sample - loss: 0.2805 - acc: 0.8882\n",
      "Epoch 38/50\n",
      "25000/25000 [==============================] - 1s 32us/sample - loss: 0.2820 - acc: 0.8870\n",
      "Epoch 39/50\n",
      "25000/25000 [==============================] - 1s 32us/sample - loss: 0.2815 - acc: 0.8887\n",
      "Epoch 40/50\n",
      "25000/25000 [==============================] - 1s 30us/sample - loss: 0.2809 - acc: 0.8892\n",
      "Epoch 41/50\n",
      "25000/25000 [==============================] - 1s 30us/sample - loss: 0.2814 - acc: 0.8883\n",
      "Epoch 42/50\n",
      "25000/25000 [==============================] - 1s 30us/sample - loss: 0.2815 - acc: 0.8876\n",
      "Epoch 43/50\n",
      "25000/25000 [==============================] - 1s 31us/sample - loss: 0.2806 - acc: 0.8868\n",
      "Epoch 44/50\n",
      "25000/25000 [==============================] - 1s 31us/sample - loss: 0.2810 - acc: 0.8890\n",
      "Epoch 45/50\n",
      "25000/25000 [==============================] - 1s 30us/sample - loss: 0.2811 - acc: 0.8879\n",
      "Epoch 46/50\n",
      "25000/25000 [==============================] - 1s 30us/sample - loss: 0.2814 - acc: 0.8876\n",
      "Epoch 47/50\n",
      "25000/25000 [==============================] - 1s 31us/sample - loss: 0.2811 - acc: 0.8875\n",
      "Epoch 48/50\n",
      "25000/25000 [==============================] - 1s 31us/sample - loss: 0.2813 - acc: 0.8877\n",
      "Epoch 49/50\n",
      "25000/25000 [==============================] - 1s 32us/sample - loss: 0.2814 - acc: 0.8875\n",
      "Epoch 50/50\n",
      "25000/25000 [==============================] - 1s 31us/sample - loss: 0.2809 - acc: 0.8885\n"
     ]
    },
    {
     "data": {
      "text/plain": [
       "<tensorflow.python.keras.callbacks.History at 0x1880097f7b8>"
      ]
     },
     "execution_count": 37,
     "metadata": {},
     "output_type": "execute_result"
    }
   ],
   "source": [
    "model.fit(train_embdgs, train_labels, batch_size=64, epochs=50, shuffle=True)"
   ]
  },
  {
   "cell_type": "markdown",
   "metadata": {},
   "source": [
    "### 3.3 Evaluate model"
   ]
  },
  {
   "cell_type": "code",
   "execution_count": 35,
   "metadata": {
    "scrolled": false
   },
   "outputs": [
    {
     "name": "stdout",
     "output_type": "stream",
     "text": [
      "25000/25000 [==============================] - 1s 39us/sample - loss: 0.2697 - acc: 0.8880\n"
     ]
    },
    {
     "data": {
      "text/plain": [
       "[0.26972603229045866, 0.888]"
      ]
     },
     "execution_count": 35,
     "metadata": {},
     "output_type": "execute_result"
    }
   ],
   "source": [
    "model.evaluate(test_embdgs, test_labels)"
   ]
  }
 ],
 "metadata": {
  "kernelspec": {
   "display_name": "Python 3",
   "language": "python",
   "name": "python3"
  },
  "language_info": {
   "codemirror_mode": {
    "name": "ipython",
    "version": 3
   },
   "file_extension": ".py",
   "mimetype": "text/x-python",
   "name": "python",
   "nbconvert_exporter": "python",
   "pygments_lexer": "ipython3",
   "version": "3.7.3"
  }
 },
 "nbformat": 4,
 "nbformat_minor": 2
}
